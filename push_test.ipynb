{
 "cells": [
  {
   "cell_type": "markdown",
   "metadata": {},
   "source": [
    "# Yuk kita ngepush\n"
   ]
  },
  {
   "cell_type": "markdown",
   "metadata": {},
   "source": [
    "1. `git clone git@github.com:FTDS-assignment-bay/github-classroom-exercise-nadhira-gunawan.git` assignment\n",
    "2. `cd` ke repo di local device (folder yang udah di clone)\n",
    "3. Create file tugas atau copas dari folder sebelum repo terbentuk\n",
    "4. `git status` untuk cek file terbaru -> harusnya warna filenya merah\n",
    "5. `git add`. untuk masukkan seluruh file di repo lokal ke stage mode\n",
    "6. `git status` file yg warna merah jadi ijo (ready to upload)\n",
    "7. `git commit -m \"Final Push\"` untuk commit tugas dan memberikan  message(-m)\n",
    "8. `git push` untuk push ke github\n",
    "9. Make sure github file baru sudah terupload"
   ]
  },
  {
   "cell_type": "code",
   "execution_count": 1,
   "metadata": {},
   "outputs": [
    {
     "name": "stdout",
     "output_type": "stream",
     "text": [
      "conda 24.11.3\n",
      "\n",
      "Note: you may need to restart the kernel to use updated packages.\n"
     ]
    }
   ],
   "source": [
    "conda --version\n"
   ]
  }
 ],
 "metadata": {
  "kernelspec": {
   "display_name": "base",
   "language": "python",
   "name": "python3"
  },
  "language_info": {
   "codemirror_mode": {
    "name": "ipython",
    "version": 3
   },
   "file_extension": ".py",
   "mimetype": "text/x-python",
   "name": "python",
   "nbconvert_exporter": "python",
   "pygments_lexer": "ipython3",
   "version": "3.12.7"
  }
 },
 "nbformat": 4,
 "nbformat_minor": 2
}
